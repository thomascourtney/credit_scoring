{
 "cells": [
  {
   "cell_type": "code",
   "execution_count": null,
   "metadata": {},
   "outputs": [],
   "source": [
    "#libraries\n",
    "import pandas as pd\n",
    "from tabulate import tabulate\n",
    "import numpy as np\n",
    "import matplotlib.pyplot as plt\n",
    "import math\n",
    "import statsmodels.api as sm\n",
    "import scipy.stats as stats\n",
    "from sklearn.metrics import mean_squared_error\n"
   ]
  },
  {
   "cell_type": "markdown",
   "metadata": {},
   "source": [
    "Import Data"
   ]
  },
  {
   "cell_type": "code",
   "execution_count": null,
   "metadata": {},
   "outputs": [],
   "source": [
    "\n",
    "\n",
    "\n",
    "def read_csv_or_fail(file_path):\n",
    "    try:\n",
    "        df = pd.read_csv(file_path)\n",
    "        return df\n",
    "    except FileNotFoundError:\n",
    "        print(f\"Cannot read the data from '{file_path}' - File not found.\")\n",
    "    except pd.errors.EmptyDataError:\n",
    "        print(f\"Cannot read the data from '{file_path}' - Empty file.\")\n",
    "    except pd.errors.ParserError:\n",
    "        print(f\"Cannot read the data from '{file_path}' - Error parsing the CSV file.\")\n",
    "    return None\n",
    "\n",
    "data = read_csv_or_fail(\"mv_test.csv\")\n",
    "data[\"mean\"] = data[[\"score1\",\"score2\"]].mean(axis=1)\n",
    "\n",
    "\n",
    "if data is not None:\n",
    "    data.drop('ID', axis=1, inplace=True)\n",
    "    print(data.head())\n",
    "else:\n",
    "    print(\"Data load failed.\")\n"
   ]
  },
  {
   "cell_type": "markdown",
   "metadata": {},
   "source": [
    "Question 1"
   ]
  },
  {
   "cell_type": "code",
   "execution_count": null,
   "metadata": {},
   "outputs": [],
   "source": [
    "#Creating small function to calculating divergence score\n",
    "def calculate_divergence(df: pd.DataFrame):\n",
    "    mu_good, sigma_good = df.loc[df['bad'] == 0, 'score1'].mean(), df.loc[df['bad'] == 0, 'mean'].std()\n",
    "    mu_bad, sigma_bad = df.loc[df['bad'] == 1, 'mean'].mean(), df.loc[df['bad'] == 1, 'mean'].std()\n",
    "    print(2*(mu_good - mu_bad)**2/(sigma_good**2 + sigma_bad**2))\n",
    "\n",
    "calculate_divergence(data)\n"
   ]
  },
  {
   "cell_type": "markdown",
   "metadata": {},
   "source": [
    "Question 2"
   ]
  },
  {
   "cell_type": "code",
   "execution_count": null,
   "metadata": {},
   "outputs": [],
   "source": [
    "\n",
    "#Setting bin sizes with starting and ending bins. Can be modified for different results\n",
    "starting_bin = 500\n",
    "ending_bin = 820\n",
    "bin_increment = 20"
   ]
  },
  {
   "cell_type": "code",
   "execution_count": null,
   "metadata": {},
   "outputs": [],
   "source": [
    "def create_table(df, starting_bin, ending_bin, bin_increment, score=str, total_number=str, bad_number=str):\n",
    "  df = pd.DataFrame({total_number: df[score],\n",
    "                        bad_number: df[\"bad\"]})\n",
    "\n",
    "  my_list = []\n",
    "  my_list.append(0)\n",
    "  for i in range(starting_bin, ending_bin, bin_increment):\n",
    "    my_list.append(i)\n",
    "  my_list.append(np.inf)\n",
    "\n",
    "  result = df.groupby(pd.cut(df[total_number], my_list, right=False)).apply(lambda x: pd.Series({\n",
    "      total_number: x[total_number].count(),\n",
    "      bad_number: x[bad_number].astype(bool).sum(),\n",
    "  }))\n",
    "\n",
    "  return result"
   ]
  },
  {
   "cell_type": "code",
   "execution_count": null,
   "metadata": {},
   "outputs": [],
   "source": [
    "def concat_tables(df, number_of_scores):\n",
    "    scores = []\n",
    "    for i in range(1, number_of_scores+1):\n",
    "      scores.append('score' + str(i))\n",
    "    dfs = []\n",
    "    for score in scores:\n",
    "      df_temp = create_table(df, starting_bin, ending_bin, bin_increment, score, f'Total # ({score})', f'Bads # ({score})')\n",
    "      dfs.append(df_temp)\n",
    "    df_concat = pd.concat(dfs, axis=1)\n",
    "    df_concat.index.name=\"Score Bands\"\n",
    "    return df_concat\n",
    "df_concat = concat_tables(data, 2)"
   ]
  },
  {
   "cell_type": "markdown",
   "metadata": {},
   "source": [
    "Question 3"
   ]
  },
  {
   "cell_type": "code",
   "execution_count": null,
   "metadata": {},
   "outputs": [],
   "source": [
    "table_1 = create_table(data, starting_bin, ending_bin, bin_increment, \"score1\", 'Total # (S1)', 'Bads # (S1)')\n",
    "table_2 = create_table(data, starting_bin, ending_bin, bin_increment, \"score2\", 'Total # (S2)', 'Bads # (S2)')\n",
    "\n",
    "df_concat = pd.concat([table_1, table_2], axis=1)\n",
    "df_concat"
   ]
  },
  {
   "cell_type": "code",
   "execution_count": null,
   "metadata": {},
   "outputs": [],
   "source": [
    "\n",
    "\n",
    "#Changing pandas series to float to calculate the log odds of Score 1 and Score 2\n",
    "def calculate_log_odds(df, total_number, bads_number, log_odds_number=str):\n",
    "  question3_df_float = df_concat.astype(float)\n",
    "\n",
    "  question3_df_float[log_odds_number]= (question3_df_float[total_number] - question3_df_float[bads_number] / question3_df_float[total_number])\n",
    "  question3_df_float[log_odds_number]= question3_df_float[log_odds_number].apply(lambda x: math.log(x, 10))\n",
    "  return question3_df_float\n",
    "\n",
    "\n",
    "question3_df_float_1 = calculate_log_odds(df_concat,\"Total # (S1)\", \"Bads # (S1)\", \"log_odds_s1\")\n",
    "question3_df_float_2 = calculate_log_odds(df_concat,\"Total # (S2)\", \"Bads # (S2)\", \"log_odds_s2\")\n",
    "question3_df_float = pd.merge(question3_df_float_1, question3_df_float_2, on=question3_df_float_1.index.name)\n",
    "column = question3_df_float.pop(\"log_odds_s1\")\n",
    "question3_df_float.insert(desired_index, \"log_odds_s1\", column)\n",
    "question3_df_float"
   ]
  },
  {
   "cell_type": "code",
   "execution_count": null,
   "metadata": {},
   "outputs": [],
   "source": [
    "\n",
    "def get_graph(df, log_odds, color=str):\n",
    "  x = question3_df_float.index.codes.astype(float)\n",
    "  y1 = question3_df_float[log_odds]\n",
    "\n",
    "  coeffs1 = np.polyfit(x, y1, 1)\n",
    "\n",
    "  line1 = np.poly1d(coeffs1)\n",
    "\n",
    "  b1_line1, b0_line1 = line1.coef\n",
    "\n",
    "  plt.scatter(x, y1, label='Score 1', color=color)\n",
    "\n",
    "  plt.plot(x, line1(x), color=\"blue\")\n",
    "\n",
    "  string_list = [f\"<{i}\" if i<500 else f\"{i}-{i+20}\" if i<800 else f\">{i}\" for i in range(575, 850, 25)]\n",
    "  string_list.insert(0, \"< 500\")\n",
    "\n",
    "  for i in range(len(string_list)):\n",
    "      if i != 0 and i != len(string_list) - 1:\n",
    "          string_list[i] = \"[\" + string_list[i] + \")\"\n",
    "  number_list = [i for i in range(0, 12)]\n",
    "\n",
    "  plt.legend()\n",
    "  plt.xlabel('Score Band')\n",
    "  plt.ylabel('Log Odds')\n",
    "  plt.ylim(0, 7)\n",
    "  plt.yticks(range(0, 7))\n",
    "  plt.xticks(number_list, string_list, rotation=45, ha='right')\n",
    "  plt.grid(True)\n",
    "  fig = plt.gcf()\n",
    "  fig.set_size_inches(17,8)\n",
    "\n",
    "  # Show the plot\n",
    "  plt.show()"
   ]
  },
  {
   "cell_type": "code",
   "execution_count": null,
   "metadata": {},
   "outputs": [],
   "source": [
    "\n",
    "x = question3_df_float.index.codes.astype(float)\n",
    "y1 = question3_df_float['log_odds(score1)']\n",
    "y2 = question3_df_float['log_odds(score2)']\n",
    "\n",
    "\n",
    "# Calculate the coefficients for the lines of best fit for each set of data\n",
    "coeffs1 = np.polyfit(x, y1, 1)\n",
    "coeffs2 = np.polyfit(x, y2, 1)\n",
    "\n",
    "# Create functions for each line of best fit based on the calculated coefficients\n",
    "line1 = np.poly1d(coeffs1)\n",
    "line2 = np.poly1d(coeffs2)\n",
    "\n",
    "#finding b0 and b1 from np polyfit\n",
    "b1_line1, b0_line1 = line1.coef\n",
    "b1_line2, b0_line2 = line2.coef\n",
    "\n",
    "# Plot the scatter points for both sets of data\n",
    "plt.scatter(x, y1, label='Score 1', color=\"blue\")\n",
    "plt.scatter(x, y2, label='Score 2', color=\"green\")\n",
    "\n",
    "# Plot each line of best fit\n",
    "plt.plot(x, line1(x), color=\"blue\")\n",
    "plt.plot(x, line2(x), color=\"green\")\n",
    "\n",
    "#Creating string list of the score bands along with their positions on x-axis\n",
    "string_list = [f\"<{i}\" if i<500 else f\"{i}-{i+20}\" if i<800 else f\">{i}\" for i in range(500, 820, 20)]\n",
    "string_list.insert(0, \"< 500\")\n",
    "number_list = [i for i in range(0, 17)]\n",
    "\n",
    "# Add a legend and labels for the axes\n",
    "plt.legend()\n",
    "plt.xlabel('Score Band')\n",
    "plt.ylabel('Log Odds')\n",
    "plt.ylim(0, 7)\n",
    "plt.yticks(range(0, 7))\n",
    "plt.xticks(number_list, string_list)\n",
    "plt.grid(True)\n",
    "fig = plt.gcf()\n",
    "fig.set_size_inches(15,8)\n",
    "\n",
    "# Show the plot\n",
    "plt.show()"
   ]
  },
  {
   "cell_type": "code",
   "execution_count": null,
   "metadata": {},
   "outputs": [],
   "source": [
    "#Getting various stats of each score\n",
    "def get_stats(independent, dependent, score):\n",
    "  slope, intercept, r_value, p_value, std_err = stats.linregress(independent, dependent)\n",
    "  print(\"\\033[4m\" + score + \"\\033[0m\")\n",
    "  print(\"Slope:\", slope)\n",
    "  print(\"Intercept:\", intercept)\n",
    "  print(\"R-squared:\", r_value**2)\n",
    "  print(\"P-value:\", p_value)\n",
    "  print(\"std err:\", std_err)\n",
    "  print(\"\\n\")\n",
    "\n",
    "get_stats(x, y1, \"Score 1\")\n",
    "get_stats(x, y2, \"Score 2\")"
   ]
  },
  {
   "cell_type": "code",
   "execution_count": null,
   "metadata": {},
   "outputs": [],
   "source": [
    "#organizing data for table, calculate PDO which is the natural logarithm of base 2 / beta 1's for each score\n",
    "table_data = [['Variable', 'Score 1', 'Score 2'],\n",
    "        ['Intercept β0', round(b0_line1, 2), round(b0_line2, 2)],\n",
    "        ['Coefficient β1', round(b1_line1, 2), round(b1_line2, 2)],\n",
    "        ['PDO', round(math.log(2)/b1_line1, 2), round(math.log(2)/b1_line2, 2)]]\n",
    "\n",
    "# set the colors for the table\n",
    "colors = [['green'] * 3]  # set top row to light gray\n",
    "for i in range(1, len(table_data)):\n",
    "    colors.append(['w'] * 3)  # set all other rows to white\n",
    "\n",
    "# create the table plot\n",
    "fig, ax = plt.subplots()\n",
    "ax.axis('off')  # remove axes\n",
    "\n",
    "# plot the table using table function\n",
    "table = ax.table(cellText=table_data, cellColours=colors, loc='center')\n",
    "\n",
    "# set table properties\n",
    "table.set_fontsize(14)\n",
    "table.scale(1, 2)  # set table size\n",
    "\n",
    "# display the plot\n",
    "plt.show()"
   ]
  },
  {
   "cell_type": "markdown",
   "metadata": {},
   "source": [
    "Question 4"
   ]
  },
  {
   "cell_type": "code",
   "execution_count": null,
   "metadata": {},
   "outputs": [],
   "source": [
    "\n",
    "\n",
    "#Rename for ease of use for this function\n",
    "x = question3_df_float.index.codes.astype(float)\n",
    "y1 = question3_df_float['log_odds(score1)']\n",
    "y2 = question3_df_float['log_odds(score2)']\n",
    "\n",
    "#create function which prints beta 0 and beta 1 for each score\n",
    "def calculate_betas(x, y, score):\n",
    "  X_mean = sum(x) / len(x)\n",
    "  Y_mean = sum(y) / len(y)\n",
    "\n",
    "  dev_X = [i - X_mean for i in x]\n",
    "  dev_Y = [j - Y_mean for j in y]\n",
    "\n",
    "  SS_xy = sum([dev_X[i] * dev_Y[i] for i in range(len(x))])\n",
    "  SS_xx = sum([(j - X_mean)**2 for j in x])\n",
    "\n",
    "  beta1 = SS_xy / SS_xx\n",
    "  beta0 = Y_mean - beta1 * X_mean\n",
    "\n",
    "  print(\"\\033[4m\" + score + \"\\033[0m\", \": β0 =\", round(beta0, 2), \"and β1 =\", round(beta1, 2))\n",
    "  print(\"\\n\")\n",
    "\n",
    "calculate_betas(x, y1, \"Score 1\")\n",
    "calculate_betas(x, y2, \"Score 2\")"
   ]
  }
 ],
 "metadata": {
  "kernelspec": {
   "display_name": "Python 3.11.0 ('env': venv)",
   "language": "python",
   "name": "python3"
  },
  "language_info": {
   "name": "python",
   "version": "3.11.0"
  },
  "orig_nbformat": 4,
  "vscode": {
   "interpreter": {
    "hash": "df92bf99af7ea925a927b94fccc6baf944ac3ee3bb725f1debe220ac79c5707f"
   }
  }
 },
 "nbformat": 4,
 "nbformat_minor": 2
}
